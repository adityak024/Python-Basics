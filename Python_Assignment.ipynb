{
  "nbformat": 4,
  "nbformat_minor": 0,
  "metadata": {
    "colab": {
      "provenance": []
    },
    "kernelspec": {
      "name": "python3",
      "display_name": "Python 3"
    },
    "language_info": {
      "name": "python"
    }
  },
  "cells": [
    {
      "cell_type": "markdown",
      "source": [
        "# Python Questions\n",
        "1. **Write a Python program to print \"Hello, World!**"
      ],
      "metadata": {
        "id": "uIQ5s4sD9cxy"
      }
    },
    {
      "cell_type": "code",
      "execution_count": null,
      "metadata": {
        "colab": {
          "base_uri": "https://localhost:8080/"
        },
        "id": "tNlPZpu18wh7",
        "outputId": "86b1c054-21ea-4eb7-c4c0-e8527ab003cc"
      },
      "outputs": [
        {
          "output_type": "stream",
          "name": "stdout",
          "text": [
            "Hello World\n"
          ]
        }
      ],
      "source": [
        "print(\"Hello World\")"
      ]
    },
    {
      "cell_type": "markdown",
      "source": [
        "2. **Write a Python program that displays your name and age.**"
      ],
      "metadata": {
        "id": "FytvMVGK_CPy"
      }
    },
    {
      "cell_type": "code",
      "source": [
        "name = input(\"Enter your name: \")\n",
        "age = int(input(\"Enter your age: \"))\n",
        "\n",
        "print(f\"My name is {name}, and I am {age} years old.\")"
      ],
      "metadata": {
        "colab": {
          "base_uri": "https://localhost:8080/"
        },
        "id": "hHZrEK5E-7jw",
        "outputId": "3d9856bd-fc51-47f7-b828-769bc4313ec9"
      },
      "execution_count": null,
      "outputs": [
        {
          "output_type": "stream",
          "name": "stdout",
          "text": [
            "Enter your name: Aditya\n",
            "Enter your age: 24\n",
            "My name is Aditya, and I am 24 years old.\n"
          ]
        }
      ]
    },
    {
      "cell_type": "markdown",
      "source": [
        "3. **Write code to print all the pre-defined keywords in Python using the keyword library.**"
      ],
      "metadata": {
        "id": "cp7EzG-7AehP"
      }
    },
    {
      "cell_type": "code",
      "source": [
        "import keyword\n",
        "\n",
        "print(keyword.kwlist)"
      ],
      "metadata": {
        "colab": {
          "base_uri": "https://localhost:8080/"
        },
        "id": "V0jIAhaPBF66",
        "outputId": "2eaf1460-69cd-4b50-8957-ff4115baadc3"
      },
      "execution_count": null,
      "outputs": [
        {
          "output_type": "stream",
          "name": "stdout",
          "text": [
            "['False', 'None', 'True', 'and', 'as', 'assert', 'async', 'await', 'break', 'class', 'continue', 'def', 'del', 'elif', 'else', 'except', 'finally', 'for', 'from', 'global', 'if', 'import', 'in', 'is', 'lambda', 'nonlocal', 'not', 'or', 'pass', 'raise', 'return', 'try', 'while', 'with', 'yield']\n"
          ]
        }
      ]
    },
    {
      "cell_type": "markdown",
      "source": [
        "4. **Write a program that checks if a given word is a Python keyword.**"
      ],
      "metadata": {
        "id": "t-a4PZfrB2ya"
      }
    },
    {
      "cell_type": "code",
      "source": [
        "import keyword\n",
        "\n",
        "def is_keyword(word):  #checks if a given word is a python word\n",
        "  return keyword.iskeyword(word)\n",
        "\n",
        "word = input(\"Enter a word: \")  #gets input from the user\n",
        "if is_keyword(word):  #checks if the word is a keyword\n",
        "  print(f\"{word} is a Python Keyword\")\n",
        "else:\n",
        "  print(f\"{word} is not a Python Keyword\")"
      ],
      "metadata": {
        "colab": {
          "base_uri": "https://localhost:8080/"
        },
        "id": "diaEr5N0B0Bf",
        "outputId": "944d5192-2383-41b8-8334-3ed22e82f491"
      },
      "execution_count": null,
      "outputs": [
        {
          "output_type": "stream",
          "name": "stdout",
          "text": [
            "Enter a word: True\n",
            "True is a Python Keyword\n"
          ]
        }
      ]
    },
    {
      "cell_type": "markdown",
      "source": [
        "5. **Create a list and tuple in Python, and demonstrate how attempting to change an element works differently\n",
        "for each.**\n",
        "\n",
        "- List"
      ],
      "metadata": {
        "id": "l6iUgZy9GG-F"
      }
    },
    {
      "cell_type": "code",
      "source": [
        "my_list = [1,2,3,4,5,6,7,8,9]\n",
        "print(my_list)    #printing the original list\n",
        "my_list[0] = 10   #changing the value of 1st position\n",
        "print(my_list)    #printing the list after changes so changes are possible as lists are mutable."
      ],
      "metadata": {
        "colab": {
          "base_uri": "https://localhost:8080/"
        },
        "id": "KyfaeLFeF07S",
        "outputId": "f30efb3f-16d0-49ea-a552-023f224189c0"
      },
      "execution_count": null,
      "outputs": [
        {
          "output_type": "stream",
          "name": "stdout",
          "text": [
            "[1, 2, 3, 4, 5, 6, 7, 8, 9]\n",
            "[10, 2, 3, 4, 5, 6, 7, 8, 9]\n"
          ]
        }
      ]
    },
    {
      "cell_type": "markdown",
      "source": [
        "- Tuple"
      ],
      "metadata": {
        "id": "7tdGLhLlIE5w"
      }
    },
    {
      "cell_type": "code",
      "source": [
        "my_tuple = (1,2,3,4,5,6,7,8,9)\n",
        "print(my_tuple)    #printing the original tuple\n",
        "my_tuple[0] = 10   #changing the value of 1st position\n",
        "print(my_tuple)    #printing the tuple after changes, but print not executed because tuples are immutable so changes cannot be done."
      ],
      "metadata": {
        "colab": {
          "base_uri": "https://localhost:8080/",
          "height": 211
        },
        "id": "P5U-EqNBHbtN",
        "outputId": "74835654-e256-4712-adcd-3eded9bee0f0"
      },
      "execution_count": null,
      "outputs": [
        {
          "output_type": "stream",
          "name": "stdout",
          "text": [
            "(1, 2, 3, 4, 5, 6, 7, 8, 9)\n"
          ]
        },
        {
          "output_type": "error",
          "ename": "TypeError",
          "evalue": "'tuple' object does not support item assignment",
          "traceback": [
            "\u001b[0;31m---------------------------------------------------------------------------\u001b[0m",
            "\u001b[0;31mTypeError\u001b[0m                                 Traceback (most recent call last)",
            "\u001b[0;32m<ipython-input-17-6e1d7dd6f4d2>\u001b[0m in \u001b[0;36m<cell line: 3>\u001b[0;34m()\u001b[0m\n\u001b[1;32m      1\u001b[0m \u001b[0mmy_tuple\u001b[0m \u001b[0;34m=\u001b[0m \u001b[0;34m(\u001b[0m\u001b[0;36m1\u001b[0m\u001b[0;34m,\u001b[0m\u001b[0;36m2\u001b[0m\u001b[0;34m,\u001b[0m\u001b[0;36m3\u001b[0m\u001b[0;34m,\u001b[0m\u001b[0;36m4\u001b[0m\u001b[0;34m,\u001b[0m\u001b[0;36m5\u001b[0m\u001b[0;34m,\u001b[0m\u001b[0;36m6\u001b[0m\u001b[0;34m,\u001b[0m\u001b[0;36m7\u001b[0m\u001b[0;34m,\u001b[0m\u001b[0;36m8\u001b[0m\u001b[0;34m,\u001b[0m\u001b[0;36m9\u001b[0m\u001b[0;34m)\u001b[0m\u001b[0;34m\u001b[0m\u001b[0;34m\u001b[0m\u001b[0m\n\u001b[1;32m      2\u001b[0m \u001b[0mprint\u001b[0m\u001b[0;34m(\u001b[0m\u001b[0mmy_tuple\u001b[0m\u001b[0;34m)\u001b[0m    \u001b[0;31m#printing the original tuple\u001b[0m\u001b[0;34m\u001b[0m\u001b[0;34m\u001b[0m\u001b[0m\n\u001b[0;32m----> 3\u001b[0;31m \u001b[0mmy_tuple\u001b[0m\u001b[0;34m[\u001b[0m\u001b[0;36m0\u001b[0m\u001b[0;34m]\u001b[0m \u001b[0;34m=\u001b[0m \u001b[0;36m10\u001b[0m   \u001b[0;31m#changing the value of 1st position\u001b[0m\u001b[0;34m\u001b[0m\u001b[0;34m\u001b[0m\u001b[0m\n\u001b[0m\u001b[1;32m      4\u001b[0m \u001b[0mprint\u001b[0m\u001b[0;34m(\u001b[0m\u001b[0mmy_tuple\u001b[0m\u001b[0;34m)\u001b[0m    \u001b[0;31m#printing the tuple after changes\u001b[0m\u001b[0;34m\u001b[0m\u001b[0;34m\u001b[0m\u001b[0m\n",
            "\u001b[0;31mTypeError\u001b[0m: 'tuple' object does not support item assignment"
          ]
        }
      ]
    },
    {
      "cell_type": "markdown",
      "source": [
        "6. **Write a function to demonstrate the behavior of mutable and immutable arguments.**"
      ],
      "metadata": {
        "id": "MtSj_05QIzN9"
      }
    },
    {
      "source": [
        "def modify_arguments(immutable_arg, mutable_arg):\n",
        "    try:\n",
        "        immutable_arg += 1  # Attempting to modify the immutable argument\n",
        "    except TypeError as e:\n",
        "        print(f\"Error modifying immutable argument: {e}\")\n",
        "\n",
        "    mutable_arg.append(4)  # Modifying the mutable argument\n",
        "\n",
        "    print(f\"Inside function: immutable_arg = {immutable_arg}, mutable_arg = {mutable_arg}\")\n",
        "\n",
        "# Call the function with sample arguments\n",
        "immutable_arg = 1\n",
        "mutable_arg = [1, 2, 3]\n",
        "\n",
        "print(f\"Before function call: immutable_arg = {immutable_arg}, mutable_arg = {mutable_arg}\")\n",
        "\n",
        "modify_arguments(immutable_arg, mutable_arg)\n",
        "\n",
        "print(f\"After function call: immutable_arg = {immutable_arg}, mutable_arg = {mutable_arg}\")"
      ],
      "cell_type": "code",
      "metadata": {
        "colab": {
          "base_uri": "https://localhost:8080/"
        },
        "id": "M7yWOHZl6SEY",
        "outputId": "a77f9e7a-e74e-4ce3-b6d0-629fd297efad"
      },
      "execution_count": null,
      "outputs": [
        {
          "output_type": "stream",
          "name": "stdout",
          "text": [
            "Before function call: immutable_arg = 1, mutable_arg = [1, 2, 3]\n",
            "Inside function: immutable_arg = 2, mutable_arg = [1, 2, 3, 4]\n",
            "After function call: immutable_arg = 1, mutable_arg = [1, 2, 3, 4]\n"
          ]
        }
      ]
    },
    {
      "cell_type": "markdown",
      "source": [
        "7. **Write a function to demonstrate the behavior of mutable and immutable arguments.**"
      ],
      "metadata": {
        "id": "elTc8A7K8i3J"
      }
    },
    {
      "cell_type": "code",
      "source": [
        "def modify_arguments(immutable_arg, mutable_arg):\n",
        "  try:\n",
        "    immutable_arg +=5\n",
        "  except TypeError as e:\n",
        "      print(f,\"Error modifying immutable argument: {e}\")\n",
        "\n",
        "  mutable_arg.append(6)\n",
        "  print(f\"Inside function: immutable_arg = {immutable_arg}, mutable_arg = {mutable_arg}\")\n",
        "\n",
        "\n",
        "immutable_arg = 1\n",
        "mutable_arg = [1,2,3,4,5]\n",
        "\n",
        "print(f\"Before function call: immutable_arg = {immutable_arg}, mutable_arg = {mutable_arg}\")\n",
        "\n",
        "modify_arguments(immutable_arg, mutable_arg)\n",
        "\n",
        "print(f\"After funtion call: immutable_arg = {immutable_arg}, mutable_arg = {mutable_arg}\")"
      ],
      "metadata": {
        "colab": {
          "base_uri": "https://localhost:8080/"
        },
        "id": "htpVM5HO6V49",
        "outputId": "90fcea7a-6664-4861-9093-20fe130ddcaf"
      },
      "execution_count": null,
      "outputs": [
        {
          "output_type": "stream",
          "name": "stdout",
          "text": [
            "Before function call: immutable_arg = 1, mutable_arg = [1, 2, 3, 4, 5]\n",
            "Inside function: immutable_arg = 6, mutable_arg = [1, 2, 3, 4, 5, 6]\n",
            "After funtion call: immutable_arg = 1, mutable_arg = [1, 2, 3, 4, 5, 6]\n"
          ]
        }
      ]
    },
    {
      "cell_type": "markdown",
      "source": [
        "8. **Write a program to demonstrate the use of logical operators.**"
      ],
      "metadata": {
        "id": "pmZsRdbtAD8w"
      }
    },
    {
      "cell_type": "code",
      "source": [
        "age = int(input(\"Enter your age: \"))  #age is entered by the user\n",
        "has_license = input(\"Do you have a driver's license? (yes/no): \")\n",
        "\n",
        "if age>=18 and has_license.lower() ==\"yes\":\n",
        "  print(\"You are eligible to drive\")\n",
        "elif age < 18:\n",
        "  print(\"You are not eligible to drive becarse you are uncer 18\")\n",
        "else:\n",
        "  print(\"You are not eligible to drive because you do not have a driver's license\")"
      ],
      "metadata": {
        "colab": {
          "base_uri": "https://localhost:8080/"
        },
        "id": "8DEh84dq_kr1",
        "outputId": "5ec829e1-69c7-4c37-fc6d-4ab62186fa4e"
      },
      "execution_count": null,
      "outputs": [
        {
          "output_type": "stream",
          "name": "stdout",
          "text": [
            "Enter your age: 20\n",
            "Do you have a driver's license? (yes/no): no\n",
            "You are not eligible to drive because you do not have a driver's license\n"
          ]
        }
      ]
    },
    {
      "cell_type": "markdown",
      "source": [
        "9. **Write a Python program to convert user input from string to integer, float, and boolean types.**"
      ],
      "metadata": {
        "id": "hNfAzUZtCsme"
      }
    },
    {
      "cell_type": "code",
      "source": [
        "def convert_to_type(value, data_type):\n",
        "  try:\n",
        "    if data_type == \"int\":\n",
        "      return int(value)\n",
        "    elif data_type == \"float\":\n",
        "      return float(value)\n",
        "    elif data_type == \"bool\":\n",
        "      return bool(value)\n",
        "    else:\n",
        "      return None  # Invalid data type\n",
        "  except ValueError:\n",
        "    return None  # Invalid value for a specified data type\n",
        "\n",
        "#gets the input from the user\n",
        "input_value = input(\"Enter a value: \")\n",
        "data_type = input(\"Enter the data type (int,float,bool): \")\n",
        "\n",
        "#convert the input value\n",
        "converted_value = convert_to_type(input_value, data_type)\n",
        "\n",
        "#print the result\n",
        "if converted_value is not None:\n",
        "  print(f\"The converted value is: {converted_value}, Type: {type(converted_value)}\")\n",
        "else:\n",
        "  print(\"Invalid input or Data Type\")"
      ],
      "metadata": {
        "colab": {
          "base_uri": "https://localhost:8080/"
        },
        "id": "bsHUpLsHCmGL",
        "outputId": "c7e58264-ef5a-4094-d2b2-c0dc2631f38b"
      },
      "execution_count": null,
      "outputs": [
        {
          "output_type": "stream",
          "name": "stdout",
          "text": [
            "Enter a value: 88\n",
            "Enter the data type (int,float,bool): int\n",
            "The converted value is: 88, Type: <class 'int'>\n"
          ]
        }
      ]
    },
    {
      "cell_type": "markdown",
      "source": [
        "10. **Write code to demonstrate type casting with list elements.**"
      ],
      "metadata": {
        "id": "uWkk6R7bO8D6"
      }
    },
    {
      "cell_type": "code",
      "source": [
        "my_list = [\"123\", \"3.14\", \"True\", \"False\", \"555\"]  #Original list with mixed data types\n",
        "\n",
        "integer = int(my_list[0])\n",
        "floating_number = float(my_list[1])\n",
        "boolean = bool(my_list[2])\n",
        "boolean2 = bool(my_list[3])\n",
        "integer2 = int(my_list[4])\n",
        "\n",
        "print(f\"Integer: {integer}, Type: {type(integer)}\")\n",
        "print(f\"Floating Number: {floating_number}, Type: {type(floating_number)}\")\n",
        "print(f\"boolean: {boolean}, Type: {type(boolean)}\")\n",
        "print(f\"boolean2: {boolean2}, Type: {type(boolean2)}\")\n",
        "print(f\"integer2: {integer2}, Type: {type(integer2)}\")"
      ],
      "metadata": {
        "colab": {
          "base_uri": "https://localhost:8080/"
        },
        "id": "S6-1M0ytLyrf",
        "outputId": "13b00735-4a80-411c-e4ea-430d3df0115f"
      },
      "execution_count": null,
      "outputs": [
        {
          "output_type": "stream",
          "name": "stdout",
          "text": [
            "Integer: 123, Type: <class 'int'>\n",
            "Floating Number: 3.14, Type: <class 'float'>\n",
            "boolean: True, Type: <class 'bool'>\n",
            "boolean2: True, Type: <class 'bool'>\n",
            "integer2: 555, Type: <class 'int'>\n"
          ]
        }
      ]
    },
    {
      "cell_type": "markdown",
      "source": [
        "11. **Write a program that checks if a number is positive, negative, or zero.**"
      ],
      "metadata": {
        "id": "INT-rMNcVG3f"
      }
    },
    {
      "cell_type": "code",
      "source": [
        "def check_number(number):\n",
        "  if number > 0:\n",
        "    return \"Positive\"\n",
        "  elif number < 0:\n",
        "    return \"Negative\"\n",
        "  else:\n",
        "    return \"Zero\"\n",
        "\n",
        "number = float(input(\"Enter a number: \"))\n",
        "result = check_number(number)\n",
        "print(f\"The number is {result}.\")"
      ],
      "metadata": {
        "colab": {
          "base_uri": "https://localhost:8080/"
        },
        "id": "QQmxwiyvSGv8",
        "outputId": "4d3e40bd-1eed-4f9f-de92-5c0c78788df3"
      },
      "execution_count": null,
      "outputs": [
        {
          "output_type": "stream",
          "name": "stdout",
          "text": [
            "Enter a number: 55\n",
            "The number is Positive.\n"
          ]
        }
      ]
    },
    {
      "cell_type": "markdown",
      "source": [
        "12. **Write a for loop to print numbers from 1 to 100**"
      ],
      "metadata": {
        "id": "cfqtmwdLYQb-"
      }
    },
    {
      "cell_type": "code",
      "source": [
        "for i in range(1,101):\n",
        "  print (i)"
      ],
      "metadata": {
        "colab": {
          "base_uri": "https://localhost:8080/"
        },
        "id": "gLvd3V2VWH2O",
        "outputId": "04b8bb37-c2c3-4302-ccf4-08b4d9a85a5a"
      },
      "execution_count": null,
      "outputs": [
        {
          "output_type": "stream",
          "name": "stdout",
          "text": [
            "1\n",
            "2\n",
            "3\n",
            "4\n",
            "5\n",
            "6\n",
            "7\n",
            "8\n",
            "9\n",
            "10\n",
            "11\n",
            "12\n",
            "13\n",
            "14\n",
            "15\n",
            "16\n",
            "17\n",
            "18\n",
            "19\n",
            "20\n",
            "21\n",
            "22\n",
            "23\n",
            "24\n",
            "25\n",
            "26\n",
            "27\n",
            "28\n",
            "29\n",
            "30\n",
            "31\n",
            "32\n",
            "33\n",
            "34\n",
            "35\n",
            "36\n",
            "37\n",
            "38\n",
            "39\n",
            "40\n",
            "41\n",
            "42\n",
            "43\n",
            "44\n",
            "45\n",
            "46\n",
            "47\n",
            "48\n",
            "49\n",
            "50\n",
            "51\n",
            "52\n",
            "53\n",
            "54\n",
            "55\n",
            "56\n",
            "57\n",
            "58\n",
            "59\n",
            "60\n",
            "61\n",
            "62\n",
            "63\n",
            "64\n",
            "65\n",
            "66\n",
            "67\n",
            "68\n",
            "69\n",
            "70\n",
            "71\n",
            "72\n",
            "73\n",
            "74\n",
            "75\n",
            "76\n",
            "77\n",
            "78\n",
            "79\n",
            "80\n",
            "81\n",
            "82\n",
            "83\n",
            "84\n",
            "85\n",
            "86\n",
            "87\n",
            "88\n",
            "89\n",
            "90\n",
            "91\n",
            "92\n",
            "93\n",
            "94\n",
            "95\n",
            "96\n",
            "97\n",
            "98\n",
            "99\n",
            "100\n"
          ]
        }
      ]
    },
    {
      "cell_type": "markdown",
      "source": [
        "13. **Write a Python program to find the sum of all even numbers between 1 and 50**"
      ],
      "metadata": {
        "id": "CXxblPoVZR-y"
      }
    },
    {
      "cell_type": "code",
      "source": [
        "total_sum = 0  #initialize total sum to 0\n",
        "\n",
        "for i in range(2,51,2):   #iterating through numbers from 2 to 51 with a gap of 2\n",
        "  total_sum += i     #add the current even number to the sum\n",
        "\n",
        "print(f\"The sum of all even numbers between 1 to 50 is:\",{total_sum})"
      ],
      "metadata": {
        "colab": {
          "base_uri": "https://localhost:8080/"
        },
        "id": "OJ6Sl1iJZE4d",
        "outputId": "7234a5e1-9b3a-469b-f251-c681fc7cc62f"
      },
      "execution_count": null,
      "outputs": [
        {
          "output_type": "stream",
          "name": "stdout",
          "text": [
            "The sum of all even numbers between 1 to 50 is: {650}\n"
          ]
        }
      ]
    },
    {
      "cell_type": "markdown",
      "source": [
        "14. **Write a program to reverse a string using a while loop.**"
      ],
      "metadata": {
        "id": "tT83UOgucWjU"
      }
    },
    {
      "cell_type": "code",
      "source": [
        "def reverse_string(text):  #reverses a string using a while loop\n",
        "  reversed_string = \"\"\n",
        "  index = len(text) -1   #starts from the last index\n",
        "\n",
        "  while index >= 0:\n",
        "    reversed_string += text[index]   # Add the character at the current index to the reversed string\n",
        "    index -= 1    # Move to the previous index\n",
        "\n",
        "  return reversed_string\n",
        "\n",
        "input_string = input(\"Enter a String: \")    #gets the input from the user\n",
        "reversed_string = reverse_string(input_string)   #reverse the string\n",
        "print(\"Reversed String:\", reversed_string)    #print the reversed string"
      ],
      "metadata": {
        "colab": {
          "base_uri": "https://localhost:8080/"
        },
        "id": "Izif1M9qaibB",
        "outputId": "55d3c0c3-3ae8-40e1-dbe6-ad44ecb63fe1"
      },
      "execution_count": null,
      "outputs": [
        {
          "output_type": "stream",
          "name": "stdout",
          "text": [
            "Enter a String: hello\n",
            "Reversed String: olleh\n"
          ]
        }
      ]
    },
    {
      "cell_type": "markdown",
      "source": [
        "15. **Write a Python program to calculate the factorial of a number provided by the user using a while loop.**"
      ],
      "metadata": {
        "id": "3vu3sxfNnt0t"
      }
    },
    {
      "source": [
        "def factorial(number):\n",
        "  \"\"\"Calculates the factorial of a number using a while loop.\"\"\"\n",
        "  if number < 0:\n",
        "    return \"Factorial is not defined for negative numbers.\"\n",
        "  elif number == 0:\n",
        "    return 1\n",
        "  else:\n",
        "    factorial = 1\n",
        "    while number > 1:\n",
        "      factorial *= number\n",
        "      number -= 1\n",
        "    return factorial\n",
        "\n",
        "# Get input from the user\n",
        "num = int(input(\"Enter a non-negative integer: \"))\n",
        "\n",
        "# Calculate and print the factorial\n",
        "result = factorial(num)\n",
        "print(f\"The factorial of {num} is {result}\")"
      ],
      "cell_type": "code",
      "metadata": {
        "colab": {
          "base_uri": "https://localhost:8080/"
        },
        "id": "bk2k1OJbpDMC",
        "outputId": "7663632f-736c-4cc2-a6b5-f71b584f2fe7"
      },
      "execution_count": null,
      "outputs": [
        {
          "output_type": "stream",
          "name": "stdout",
          "text": [
            "Enter a non-negative integer: 12\n",
            "The factorial of 12 is 479001600\n"
          ]
        }
      ]
    },
    {
      "cell_type": "code",
      "source": [],
      "metadata": {
        "id": "mAkMxG8cpD1M"
      },
      "execution_count": null,
      "outputs": []
    }
  ]
}